{
 "cells": [
  {
   "cell_type": "markdown",
   "metadata": {},
   "source": [
    "As part of signing up, you get a sheet of paper (your puzzle input) that lists the time allowed for each race and also the best distance ever recorded in that race. To guarantee you win the grand prize, you need to make sure you go farther in each race than the current record holder.\n",
    "\n",
    "The organizer brings you over to the area where the boat races are held. The boats are much smaller than you expected - they're actually toy boats, each with a big button on top. Holding down the button charges the boat, and releasing the button allows the boat to move. Boats move faster if their button was held longer, but time spent holding the button counts against the total race time. You can only hold the button at the start of the race, and boats don't move until the button is released.\n",
    "\n",
    "For example:\n",
    "```\n",
    "Time:      7  15   30\n",
    "Distance:  9  40  200\n",
    "```\n",
    "\n",
    "This document describes three races:\n",
    "\n",
    "- The first race lasts 7 milliseconds. The record distance in this race is 9 millimeters.\n",
    "- The second race lasts 15 milliseconds. The record distance in this race is 40 millimeters.\n",
    "- The third race lasts 30 milliseconds. The record distance in this race is 200 millimeters.\n",
    "\n",
    "Your toy boat has a starting speed of zero millimeters per millisecond. For each whole millisecond you spend at the beginning of the race holding down the button, the boat's speed increases by one millimeter per millisecond.\n",
    "\n",
    "So, because the first race lasts 7 milliseconds, you only have a few options:\n",
    "\n",
    "- Don't hold the button at all (that is, hold it for 0 milliseconds) at the start of the race. The boat won't move; it will have traveled 0 millimeters by the end of the race.\n",
    "- Hold the button for 1 millisecond at the start of the race. Then, the boat will travel at a speed of 1 millimeter per millisecond for 6 milliseconds, reaching a total distance traveled of 6 millimeters.\n",
    "- Hold the button for 2 milliseconds, giving the boat a speed of 2 millimeters per millisecond. It will then get 5 milliseconds to move, reaching a total distance of 10 millimeters.\n",
    "- Hold the button for 3 milliseconds. After its remaining 4 milliseconds of travel time, the boat will have gone 12 millimeters.\n",
    "- Hold the button for 4 milliseconds. After its remaining 3 milliseconds of travel time, the boat will have gone 12 millimeters.\n",
    "- Hold the button for 5 milliseconds, causing the boat to travel a total of 10 millimeters.\n",
    "- Hold the button for 6 milliseconds, causing the boat to travel a total of 6 millimeters.\n",
    "- Hold the button for 7 milliseconds. That's the entire duration of the race. You never let go of the button. The boat can't move until you let go of the button. Please make sure you let go of the button so the boat gets to move. 0 millimeters.\n",
    "\n",
    "Since the current record for this race is 9 millimeters, there are actually 4 different ways you could win: you could hold the button for 2, 3, 4, or 5 milliseconds at the start of the race.\n",
    "\n",
    "In the second race, you could hold the button for at least 4 milliseconds and at most 11 milliseconds and beat the record, a total of 8 different ways to win.\n",
    "\n",
    "In the third race, you could hold the button for at least 11 milliseconds and no more than 19 milliseconds and still beat the record, a total of 9 ways you could win.\n",
    "\n",
    "To see how much margin of error you have, determine the number of ways you can beat the record in each race; in this example, if you multiply these values together, you get 288 (4 * 8 * 9).\n",
    "\n",
    "Determine the number of ways you could beat the record in each race. What do you get if you multiply these numbers together?"
   ]
  },
  {
   "cell_type": "code",
   "execution_count": 7,
   "metadata": {},
   "outputs": [],
   "source": [
    "input = \"\"\"Time:      7  15   30\n",
    "Distance:  9  40  200\"\"\"\n",
    "\n",
    "input = input.split(\"\\n\")"
   ]
  },
  {
   "cell_type": "code",
   "execution_count": 10,
   "metadata": {},
   "outputs": [],
   "source": [
    "# Read in input.txt\n",
    "with open(\"input.txt\", \"r\") as f:\n",
    "    input = f.readlines()"
   ]
  },
  {
   "cell_type": "code",
   "execution_count": 14,
   "metadata": {},
   "outputs": [],
   "source": [
    "race_lengths = [x for x in input[0].split()[1:]]\n",
    "distance_records = [x for x in input[1].split()[1:]]"
   ]
  },
  {
   "cell_type": "code",
   "execution_count": null,
   "metadata": {},
   "outputs": [],
   "source": [
    "\n",
    "def calc_distance(hold_time, total_time):\n",
    "    # distance = hold_time * (total_time - hold_time)\n",
    "    return hold_time * (total_time - hold_time)\n",
    "\n",
    "def calc_ways_to_win(total_time, distance_record):\n",
    "    # for each hold time, calculate the distance\n",
    "    # if the distance is greater than the distance record, add 1 to the number of ways to win\n",
    "    ways_to_win = 0\n",
    "    for hold_time in range(1, total_time):\n",
    "        distance = calc_distance(hold_time, total_time)\n",
    "        if distance > distance_record:\n",
    "            ways_to_win += 1\n",
    "    return ways_to_win\n",
    "\n",
    "wins = []\n",
    "\n",
    "# for each race (i in time and distance) calculate the number of ways to win\n",
    "for i in range(len(race_lengths)):\n",
    "    wins.append(calc_ways_to_win(race_lengths[i], distance_records[i]))\n",
    "    print(f\"{race_lengths[i]} {distance_records[i]} {wins[i]}\")\n"
   ]
  },
  {
   "cell_type": "code",
   "execution_count": 12,
   "metadata": {},
   "outputs": [
    {
     "name": "stdout",
     "output_type": "stream",
     "text": [
      "227850\n"
     ]
    }
   ],
   "source": [
    "# print each number in wins multiplied together\n",
    "total = 1\n",
    "for win in wins:\n",
    "    total *= win\n",
    "\n",
    "print(total)"
   ]
  },
  {
   "cell_type": "markdown",
   "metadata": {},
   "source": [
    "As the race is about to start, you realize the piece of paper with race times and record distances you got earlier actually just has very bad kerning. There's really only one race - ignore the spaces between the numbers on each line.\n",
    "\n",
    "So, the example from before:\n",
    "```Time:      7  15   30\n",
    "Distance:  9  40  200\n",
    "```\n",
    "...now instead means this:\n",
    "```\n",
    "Time:      71530\n",
    "Distance:  940200\n",
    "```\n",
    "\n",
    "Now, you have to figure out how many ways there are to win this single race. In this example, the race lasts for 71530 milliseconds and the record distance you need to beat is 940200 millimeters. You could hold the button anywhere from 14 to 71516 milliseconds and beat the record, a total of 71503 ways!"
   ]
  },
  {
   "cell_type": "code",
   "execution_count": 15,
   "metadata": {},
   "outputs": [
    {
     "name": "stdout",
     "output_type": "stream",
     "text": [
      "42948149\n"
     ]
    }
   ],
   "source": [
    "total_race_length = int(str.join(\"\", race_lengths))\n",
    "total_distance_record = int(str.join(\"\", distance_records))\n",
    "\n",
    "print(calc_ways_to_win(total_race_length, total_distance_record))"
   ]
  }
 ],
 "metadata": {
  "kernelspec": {
   "display_name": "Python 3",
   "language": "python",
   "name": "python3"
  },
  "language_info": {
   "codemirror_mode": {
    "name": "ipython",
    "version": 3
   },
   "file_extension": ".py",
   "mimetype": "text/x-python",
   "name": "python",
   "nbconvert_exporter": "python",
   "pygments_lexer": "ipython3",
   "version": "3.10.11"
  }
 },
 "nbformat": 4,
 "nbformat_minor": 2
}
