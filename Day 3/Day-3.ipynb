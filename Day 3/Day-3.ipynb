{
 "cells": [
  {
   "cell_type": "markdown",
   "metadata": {},
   "source": [
    "The engine schematic (your puzzle input) consists of a visual representation of the engine. There are lots of numbers and symbols you don't really understand, but apparently any number adjacent to a symbol, even diagonally, is a \"part number\" and should be included in your sum. (Periods (.) do not count as a symbol.)\n",
    "\n",
    "Here is an example engine schematic:\n",
    "\n",
    "```\n",
    "467..114..\n",
    "...*......\n",
    "..35..633.\n",
    "......#...\n",
    "617*......\n",
    ".....+.58.\n",
    "..592.....\n",
    "......755.\n",
    "...$.*....\n",
    ".664.598..\n",
    "```\n",
    "\n",
    "In this schematic, two numbers are not part numbers because they are not adjacent to a symbol: 114 (top right) and 58 (middle right). Every other number is adjacent to a symbol and so is a part number; their sum is 4361.\n",
    "\n",
    "Of course, the actual engine schematic is much larger. What is the sum of all of the part numbers in the engine schematic?"
   ]
  },
  {
   "cell_type": "code",
   "execution_count": 77,
   "metadata": {},
   "outputs": [],
   "source": [
    "# Read in the input file to a list of strings\n",
    "with open(\"input.txt\") as f:\n",
    "    input = f.readlines()"
   ]
  },
  {
   "cell_type": "code",
   "execution_count": 71,
   "metadata": {},
   "outputs": [],
   "source": [
    "input = \"\"\"467..114..\n",
    "...*......\n",
    "..35..633.\n",
    "......#...\n",
    "617*......\n",
    ".....+.58.\n",
    "..592.....\n",
    "......755.\n",
    "...$.*....\n",
    ".664.598..\n",
    "\"\"\"\n",
    "\n",
    "input = input.split(\"\\n\")"
   ]
  },
  {
   "cell_type": "code",
   "execution_count": 78,
   "metadata": {},
   "outputs": [
    {
     "name": "stdout",
     "output_type": "stream",
     "text": [
      "['*', '@', '-', '+', '#', '%', '=', '/', '$', '&']\n"
     ]
    }
   ],
   "source": [
    "# Create a list of all non-period, non-digit symbols in data\n",
    "symbols = []\n",
    "for line in input:\n",
    "    for character in line:\n",
    "        if character not in symbols and character != \".\" and not character.isdigit() and character != \"\\n\":\n",
    "            symbols.append(character)\n",
    "\n",
    "print(symbols)"
   ]
  },
  {
   "cell_type": "code",
   "execution_count": 79,
   "metadata": {},
   "outputs": [
    {
     "name": "stdout",
     "output_type": "stream",
     "text": [
      "141\n"
     ]
    }
   ],
   "source": [
    "# Create a constant that holds the length of a line\n",
    "LINE_LENGTH = len(input[0])\n",
    "print(LINE_LENGTH)"
   ]
  },
  {
   "cell_type": "code",
   "execution_count": 66,
   "metadata": {},
   "outputs": [],
   "source": [
    "class Num_In_Line:\n",
    "    \"\"\"\n",
    "    start_pos is inclusive, end_pos is exclusive\n",
    "    \"\"\"\n",
    "    def __init__(self, num, line, start_pos, end_pos):\n",
    "        self.num = num\n",
    "        self.line = line\n",
    "        self.start_pos = start_pos\n",
    "        self.end_pos = end_pos\n",
    "\n",
    "    def __str__(self):\n",
    "        return f\"Num_In_Line({self.num}, {self.line}, {self.start_pos}, {self.end_pos})\""
   ]
  },
  {
   "cell_type": "code",
   "execution_count": 88,
   "metadata": {},
   "outputs": [],
   "source": [
    "class Symbol_In_Line:\n",
    "    def __init__(self, symbol, line, pos):\n",
    "        self.symbol = symbol\n",
    "        self.line = line\n",
    "        self.pos = pos\n",
    "\n",
    "    def __str__(self):\n",
    "        return f\"Symbol_In_Line({self.symbol}, {self.line}, {self.pos})\""
   ]
  },
  {
   "cell_type": "code",
   "execution_count": 89,
   "metadata": {},
   "outputs": [],
   "source": [
    "# Create a list of all the numbers and symbols in the input\n",
    "numbers = []\n",
    "line_symbols = []\n",
    "\n",
    "for line in input:\n",
    "    for i in range(len(line)):\n",
    "        if line[i].isdigit():\n",
    "            start_pos = i\n",
    "            for j in range(i, len(line)):\n",
    "                if not line[j].isdigit():\n",
    "                    end_pos = j\n",
    "                    break\n",
    "\n",
    "            # Only add a number if it's starting position is not within another number in the same line\n",
    "            if not any([(num.start_pos <= start_pos < num.end_pos) and  num.line == input.index(line) for num in numbers]):\n",
    "                numbers.append(Num_In_Line(int(line[start_pos:end_pos]), input.index(line), start_pos, end_pos))\n",
    "        \n",
    "        elif line[i] in symbols:\n",
    "            line_symbols.append(Symbol_In_Line(line[i], input.index(line), i))"
   ]
  },
  {
   "cell_type": "code",
   "execution_count": 94,
   "metadata": {},
   "outputs": [],
   "source": [
    "to_add: list[Num_In_Line] = []\n",
    "\n",
    "def add_item(item: Num_In_Line):\n",
    "    # Only allow an addition if the item's line, start_pos, and end_pos combination is unique\n",
    "    for i in to_add:\n",
    "        if (item.line == i.line) and (item.start_pos == i.start_pos) and (item.end_pos == i.end_pos):\n",
    "            return False\n",
    "    to_add.append(item)\n",
    "\n",
    "# For each Num_In_Line, check if it is somehow adjacent to a Symbol_In_Line (including diagonally)\n",
    "# If it is, add its value to to_add\n",
    "for num in numbers:\n",
    "    for symbol in line_symbols:\n",
    "        # Check above\n",
    "        if num.line - 1 == symbol.line:\n",
    "            # Check diagonally left\n",
    "            if num.end_pos == symbol.pos:\n",
    "                add_item(num)\n",
    "            # Check diagonally right\n",
    "            elif num.start_pos == symbol.pos + 1:\n",
    "                add_item(num)\n",
    "            # Check directly above\n",
    "            elif num.start_pos <= symbol.pos < num.end_pos:\n",
    "                add_item(num)\n",
    "\n",
    "        # Check below\n",
    "        elif num.line + 1 == symbol.line:\n",
    "            # Check diagonally left\n",
    "            if num.end_pos == symbol.pos:\n",
    "                add_item(num)\n",
    "            # Check diagonally right\n",
    "            elif num.start_pos == symbol.pos + 1:\n",
    "                add_item(num)\n",
    "            # Check directly below\n",
    "            elif num.start_pos <= symbol.pos < num.end_pos:\n",
    "                add_item(num)\n",
    "\n",
    "        # Check same line\n",
    "        elif num.line == symbol.line:\n",
    "            # Check directly left\n",
    "            if num.end_pos == symbol.pos:\n",
    "                add_item(num)\n",
    "            # Check directly right\n",
    "            elif num.start_pos == symbol.pos + 1:\n",
    "                add_item(num)\n"
   ]
  },
  {
   "cell_type": "code",
   "execution_count": 95,
   "metadata": {},
   "outputs": [
    {
     "name": "stdout",
     "output_type": "stream",
     "text": [
      "531561\n"
     ]
    }
   ],
   "source": [
    "# Print the sum of all the numbers in to_add\n",
    "print(sum([to_add[i].num for i in range(len(to_add))]))"
   ]
  },
  {
   "cell_type": "markdown",
   "metadata": {},
   "source": [
    "The missing part wasn't the only issue - one of the gears in the engine is wrong. A gear is any * symbol that is adjacent to exactly two part numbers. Its gear ratio is the result of multiplying those two numbers together.\n",
    "\n",
    "This time, you need to find the gear ratio of every gear and add them all up so that the engineer can figure out which gear needs to be replaced.\n",
    "\n",
    "Consider the same engine schematic again:\n",
    "\n",
    "```\n",
    "467..114..\n",
    "...*......\n",
    "..35..633.\n",
    "......#...\n",
    "617*......\n",
    ".....+.58.\n",
    "..592.....\n",
    "......755.\n",
    "...$.*....\n",
    ".664.598..\n",
    "```\n",
    "\n",
    "In this schematic, there are two gears. The first is in the top left; it has part numbers 467 and 35, so its gear ratio is 16345. The second gear is in the lower right; its gear ratio is 451490. (The * adjacent to 617 is not a gear because it is only adjacent to one part number.) Adding up all of the gear ratios produces 467835.\n",
    "\n",
    "What is the sum of all of the gear ratios in your engine schematic?"
   ]
  },
  {
   "cell_type": "code",
   "execution_count": 97,
   "metadata": {},
   "outputs": [],
   "source": [
    "# For each symbol in line_symbols, if it is a '*', add it to part_2_symbols\n",
    "part_2_symbols = {}\n",
    "for symbol in line_symbols:\n",
    "    if symbol.symbol == \"*\":\n",
    "        part_2_symbols[symbol] = []\n",
    "\n",
    "def add_to_star(item: Num_In_Line, key: Symbol_In_Line):\n",
    "    # Only allow an addition if the item's line, start_pos, and end_pos combination is unique\n",
    "    for i in part_2_symbols[key]:\n",
    "        if (item.line == i.line) and (item.start_pos == i.start_pos) and (item.end_pos == i.end_pos):\n",
    "            return False\n",
    "    part_2_symbols[key].append(item)\n",
    "\n",
    "# For each Num_In_Line, check if it is somehow adjacent to a Symbol_In_Line in part_2_symbols.keys (including diagonally)\n",
    "# If it is, add its value to that key's value list\n",
    "for num in numbers:\n",
    "    for symbol in part_2_symbols.keys():\n",
    "        # Check above\n",
    "        if num.line - 1 == symbol.line:\n",
    "            # Check diagonally left\n",
    "            if num.end_pos == symbol.pos:\n",
    "                add_to_star(num, symbol)\n",
    "            # Check diagonally right\n",
    "            elif num.start_pos == symbol.pos + 1:\n",
    "                add_to_star(num, symbol)\n",
    "            # Check directly above\n",
    "            elif num.start_pos <= symbol.pos < num.end_pos:\n",
    "                add_to_star(num, symbol)\n",
    "\n",
    "        # Check below\n",
    "        elif num.line + 1 == symbol.line:\n",
    "            # Check diagonally left\n",
    "            if num.end_pos == symbol.pos:\n",
    "                add_to_star(num, symbol)\n",
    "            # Check diagonally right\n",
    "            elif num.start_pos == symbol.pos + 1:\n",
    "                add_to_star(num, symbol)\n",
    "            # Check directly below\n",
    "            elif num.start_pos <= symbol.pos < num.end_pos:\n",
    "                add_to_star(num, symbol)\n",
    "\n",
    "        # Check same line\n",
    "        elif num.line == symbol.line:\n",
    "            # Check directly left\n",
    "            if num.end_pos == symbol.pos:\n",
    "                add_to_star(num, symbol)\n",
    "            # Check directly right\n",
    "            elif num.start_pos == symbol.pos + 1:\n",
    "                add_to_star(num, symbol)"
   ]
  },
  {
   "cell_type": "code",
   "execution_count": 98,
   "metadata": {},
   "outputs": [],
   "source": [
    "to_add_star = []\n",
    "\n",
    "# For each key in part_2_symbols, if its value list has exactly 2 items, add the product of those items to to_add_star.\n",
    "for key in part_2_symbols.keys():\n",
    "    if len(part_2_symbols[key]) == 2:\n",
    "        to_add_star.append(part_2_symbols[key][0].num * part_2_symbols[key][1].num)"
   ]
  },
  {
   "cell_type": "code",
   "execution_count": null,
   "metadata": {},
   "outputs": [],
   "source": [
    "# Print the sum of all the numbers in to_add_star\n",
    "print(sum(to_add_star))"
   ]
  }
 ],
 "metadata": {
  "kernelspec": {
   "display_name": "Python 3",
   "language": "python",
   "name": "python3"
  },
  "language_info": {
   "codemirror_mode": {
    "name": "ipython",
    "version": 3
   },
   "file_extension": ".py",
   "mimetype": "text/x-python",
   "name": "python",
   "nbconvert_exporter": "python",
   "pygments_lexer": "ipython3",
   "version": "3.10.11"
  }
 },
 "nbformat": 4,
 "nbformat_minor": 2
}
