{
 "cells": [
  {
   "cell_type": "markdown",
   "metadata": {},
   "source": [
    "The engine schematic (your puzzle input) consists of a visual representation of the engine. There are lots of numbers and symbols you don't really understand, but apparently any number adjacent to a symbol, even diagonally, is a \"part number\" and should be included in your sum. (Periods (.) do not count as a symbol.)\n",
    "\n",
    "Here is an example engine schematic:\n",
    "\n",
    "```\n",
    "467..114..\n",
    "...*......\n",
    "..35..633.\n",
    "......#...\n",
    "617*......\n",
    ".....+.58.\n",
    "..592.....\n",
    "......755.\n",
    "...$.*....\n",
    ".664.598..\n",
    "```\n",
    "\n",
    "In this schematic, two numbers are not part numbers because they are not adjacent to a symbol: 114 (top right) and 58 (middle right). Every other number is adjacent to a symbol and so is a part number; their sum is 4361.\n",
    "\n",
    "Of course, the actual engine schematic is much larger. What is the sum of all of the part numbers in the engine schematic?"
   ]
  },
  {
   "cell_type": "code",
   "execution_count": 77,
   "metadata": {},
   "outputs": [],
   "source": [
    "# Read in the input file to a list of strings\n",
    "with open(\"input.txt\") as f:\n",
    "    input = f.readlines()"
   ]
  },
  {
   "cell_type": "code",
   "execution_count": 71,
   "metadata": {},
   "outputs": [],
   "source": [
    "input = \"\"\"467..114..\n",
    "...*......\n",
    "..35..633.\n",
    "......#...\n",
    "617*......\n",
    ".....+.58.\n",
    "..592.....\n",
    "......755.\n",
    "...$.*....\n",
    ".664.598..\n",
    "\"\"\"\n",
    "\n",
    "input = input.split(\"\\n\")"
   ]
  },
  {
   "cell_type": "code",
   "execution_count": 78,
   "metadata": {},
   "outputs": [
    {
     "name": "stdout",
     "output_type": "stream",
     "text": [
      "['*', '@', '-', '+', '#', '%', '=', '/', '$', '&']\n"
     ]
    }
   ],
   "source": [
    "# Create a list of all non-period, non-digit symbols in data\n",
    "symbols = []\n",
    "for line in input:\n",
    "    for character in line:\n",
    "        if character not in symbols and character != \".\" and not character.isdigit() and character != \"\\n\":\n",
    "            symbols.append(character)\n",
    "\n",
    "print(symbols)"
   ]
  },
  {
   "cell_type": "code",
   "execution_count": 79,
   "metadata": {},
   "outputs": [
    {
     "name": "stdout",
     "output_type": "stream",
     "text": [
      "141\n"
     ]
    }
   ],
   "source": [
    "# Create a constant that holds the length of a line\n",
    "LINE_LENGTH = len(input[0])\n",
    "print(LINE_LENGTH)"
   ]
  },
  {
   "cell_type": "code",
   "execution_count": 66,
   "metadata": {},
   "outputs": [],
   "source": [
    "class Num_In_Line:\n",
    "    \"\"\"\n",
    "    start_pos is inclusive, end_pos is exclusive\n",
    "    \"\"\"\n",
    "    def __init__(self, num, line, start_pos, end_pos):\n",
    "        self.num = num\n",
    "        self.line = line\n",
    "        self.start_pos = start_pos\n",
    "        self.end_pos = end_pos\n",
    "\n",
    "    def __str__(self):\n",
    "        return f\"Num_In_Line({self.num}, {self.line}, {self.start_pos}, {self.end_pos})\""
   ]
  },
  {
   "cell_type": "code",
   "execution_count": 88,
   "metadata": {},
   "outputs": [],
   "source": [
    "class Symbol_In_Line:\n",
    "    def __init__(self, symbol, line, pos):\n",
    "        self.symbol = symbol\n",
    "        self.line = line\n",
    "        self.pos = pos\n",
    "\n",
    "    def __str__(self):\n",
    "        return f\"Symbol_In_Line({self.symbol}, {self.line}, {self.pos})\""
   ]
  },
  {
   "cell_type": "code",
   "execution_count": 89,
   "metadata": {},
   "outputs": [],
   "source": [
    "# Create a list of all the numbers and symbols in the input\n",
    "numbers = []\n",
    "line_symbols = []\n",
    "\n",
    "for line in input:\n",
    "    for i in range(len(line)):\n",
    "        if line[i].isdigit():\n",
    "            start_pos = i\n",
    "            for j in range(i, len(line)):\n",
    "                if not line[j].isdigit():\n",
    "                    end_pos = j\n",
    "                    break\n",
    "\n",
    "            # Only add a number if it's starting position is not within another number in the same line\n",
    "            if not any([(num.start_pos <= start_pos < num.end_pos) and  num.line == input.index(line) for num in numbers]):\n",
    "                numbers.append(Num_In_Line(int(line[start_pos:end_pos]), input.index(line), start_pos, end_pos))\n",
    "        \n",
    "        elif line[i] in symbols:\n",
    "            line_symbols.append(Symbol_In_Line(line[i], input.index(line), i))"
   ]
  },
  {
   "cell_type": "code",
   "execution_count": 94,
   "metadata": {},
   "outputs": [],
   "source": [
    "to_add: list[Num_In_Line] = []\n",
    "\n",
    "def add_item(item: Num_In_Line):\n",
    "    # Only allow an addition if the item's line, start_pos, and end_pos combination is unique\n",
    "    for i in to_add:\n",
    "        if item.line == i.line and item.start_pos == i.start_pos and item.end_pos == i.end_pos:\n",
    "            return False\n",
    "    to_add.append(item)\n",
    "\n",
    "# For each Num_In_Line, check if it is somehow adjacent to a Symbol_In_Line (including diagonally)\n",
    "# If it is, add its value to to_add\n",
    "for num in numbers:\n",
    "    for symbol in line_symbols:\n",
    "        # Check above\n",
    "        if num.line - 1 == symbol.line:\n",
    "            # Check diagonally left\n",
    "            if num.end_pos == symbol.pos:\n",
    "                add_item(num)\n",
    "            # Check diagonally right\n",
    "            elif num.start_pos == symbol.pos + 1:\n",
    "                add_item(num)\n",
    "            # Check directly above\n",
    "            elif num.start_pos <= symbol.pos < num.end_pos:\n",
    "                add_item(num)\n",
    "\n",
    "        # Check below\n",
    "        elif num.line + 1 == symbol.line:\n",
    "            # Check diagonally left\n",
    "            if num.end_pos == symbol.pos:\n",
    "                add_item(num)\n",
    "            # Check diagonally right\n",
    "            elif num.start_pos == symbol.pos + 1:\n",
    "                add_item(num)\n",
    "            # Check directly below\n",
    "            elif num.start_pos <= symbol.pos < num.end_pos:\n",
    "                add_item(num)\n",
    "\n",
    "        # Check same line\n",
    "        elif num.line == symbol.line:\n",
    "            # Check directly left\n",
    "            if num.end_pos == symbol.pos:\n",
    "                add_item(num)\n",
    "            # Check directly right\n",
    "            elif num.start_pos == symbol.pos + 1:\n",
    "                add_item(num)\n"
   ]
  },
  {
   "cell_type": "code",
   "execution_count": 95,
   "metadata": {},
   "outputs": [
    {
     "name": "stdout",
     "output_type": "stream",
     "text": [
      "531561\n"
     ]
    }
   ],
   "source": [
    "# Print the sum of all the numbers in to_add\n",
    "print(sum([to_add[i].num for i in range(len(to_add))]))"
   ]
  }
 ],
 "metadata": {
  "kernelspec": {
   "display_name": "Python 3",
   "language": "python",
   "name": "python3"
  },
  "language_info": {
   "codemirror_mode": {
    "name": "ipython",
    "version": 3
   },
   "file_extension": ".py",
   "mimetype": "text/x-python",
   "name": "python",
   "nbconvert_exporter": "python",
   "pygments_lexer": "ipython3",
   "version": "3.10.11"
  }
 },
 "nbformat": 4,
 "nbformat_minor": 2
}
