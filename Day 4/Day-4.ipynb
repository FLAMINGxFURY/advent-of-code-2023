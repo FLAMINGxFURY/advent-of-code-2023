{
 "cells": [
  {
   "cell_type": "markdown",
   "metadata": {},
   "source": [
    "The Elf leads you over to the pile of colorful cards. There, you discover dozens of scratchcards, all with their opaque covering already scratched off. Picking one up, it looks like each card has two lists of numbers separated by a vertical bar (|): a list of winning numbers and then a list of numbers you have. You organize the information into a table (your puzzle input).\n",
    "\n",
    "As far as the Elf has been able to figure out, you have to figure out which of the numbers you have appear in the list of winning numbers. The first match makes the card worth one point and each match after the first doubles the point value of that card.\n",
    "\n",
    "For example:\n",
    "\n",
    "```\n",
    "Card 1: 41 48 83 86 17 | 83 86  6 31 17  9 48 53\n",
    "Card 2: 13 32 20 16 61 | 61 30 68 82 17 32 24 19\n",
    "Card 3:  1 21 53 59 44 | 69 82 63 72 16 21 14  1\n",
    "Card 4: 41 92 73 84 69 | 59 84 76 51 58  5 54 83\n",
    "Card 5: 87 83 26 28 32 | 88 30 70 12 93 22 82 36\n",
    "Card 6: 31 18 13 56 72 | 74 77 10 23 35 67 36 11\n",
    "```\n",
    "\n",
    "In the above example, card 1 has five winning numbers (41, 48, 83, 86, and 17) and eight numbers you have (83, 86, 6, 31, 17, 9, 48, and 53). Of the numbers you have, four of them (48, 83, 17, and 86) are winning numbers! That means card 1 is worth 8 points (1 for the first match, then doubled three times for each of the three matches after the first).\n",
    "\n",
    "    Card 2 has two winning numbers (32 and 61), so it is worth 2 points.\n",
    "    Card 3 has two winning numbers (1 and 21), so it is worth 2 points.\n",
    "    Card 4 has one winning number (84), so it is worth 1 point.\n",
    "    Card 5 has no winning numbers, so it is worth no points.\n",
    "    Card 6 has no winning numbers, so it is worth no points.\n",
    "\n",
    "So, in this example, the Elf's pile of scratchcards is worth 13 points.\n",
    "\n",
    "Take a seat in the large pile of colorful cards. How many points are they worth in total?"
   ]
  },
  {
   "cell_type": "code",
   "execution_count": 11,
   "metadata": {},
   "outputs": [],
   "source": [
    "input = \"\"\"Card 1: 41 48 83 86 17 | 83 86  6 31 17  9 48 53\n",
    "Card 2: 13 32 20 16 61 | 61 30 68 82 17 32 24 19\n",
    "Card 3:  1 21 53 59 44 | 69 82 63 72 16 21 14  1\n",
    "Card 4: 41 92 73 84 69 | 59 84 76 51 58  5 54 83\n",
    "Card 5: 87 83 26 28 32 | 88 30 70 12 93 22 82 36\n",
    "Card 6: 31 18 13 56 72 | 74 77 10 23 35 67 36 11\"\"\"\n",
    "\n",
    "input = input.split(\"\\n\")"
   ]
  },
  {
   "cell_type": "code",
   "execution_count": 1,
   "metadata": {},
   "outputs": [],
   "source": [
    "# read in the input file\n",
    "with open(\"input.txt\") as f:\n",
    "    input = f.readlines()"
   ]
  },
  {
   "cell_type": "code",
   "execution_count": 2,
   "metadata": {},
   "outputs": [],
   "source": [
    "class Card:\n",
    "    def __init__(self, id, winning_numbers, numbers):\n",
    "        self.id = id\n",
    "        self.winning_numbers = winning_numbers\n",
    "        self.numbers = numbers\n",
    "        self.matches = set(self.winning_numbers).intersection(self.numbers)\n",
    "        self.instances = 1"
   ]
  },
  {
   "cell_type": "code",
   "execution_count": 3,
   "metadata": {},
   "outputs": [],
   "source": [
    "cards = []\n",
    "\n",
    "# For each line, parse it into a card\n",
    "for line in input:\n",
    "    id = int(line[line.index(\" \") + 1:line.index(\":\")])\n",
    "    winning_numbers = [int(x) for x in line[line.index(\":\") + 1:line.index(\"|\")].strip().replace(\"  \", \" \").split(\" \")]\n",
    "    numbers = [int(x) for x in line[line.index(\"|\") + 1:].strip().replace(\"  \", \" \").split(\" \")]\n",
    "    cards.append(Card(id, winning_numbers, numbers))\n"
   ]
  },
  {
   "cell_type": "code",
   "execution_count": 4,
   "metadata": {},
   "outputs": [
    {
     "name": "stdout",
     "output_type": "stream",
     "text": [
      "25231\n"
     ]
    }
   ],
   "source": [
    "total = []\n",
    "for card in cards:\n",
    "    # if there are no matches, skip\n",
    "    if len(card.matches) == 0:\n",
    "        continue\n",
    "\n",
    "    # add 1 * 2 ^ len(matches) - 1 to the total\n",
    "    total.append(2 ** (len(card.matches) - 1))\n",
    "\n",
    "# print the total\n",
    "print(sum(total))"
   ]
  },
  {
   "cell_type": "markdown",
   "metadata": {},
   "source": [
    "There's no such thing as \"points\". Instead, scratchcards only cause you to win more scratchcards equal to the number of winning numbers you have.\n",
    "\n",
    "Specifically, you win copies of the scratchcards below the winning card equal to the number of matches. So, if card 10 were to have 5 matching numbers, you would win one copy each of cards 11, 12, 13, 14, and 15.\n",
    "\n",
    "Copies of scratchcards are scored like normal scratchcards and have the same card number as the card they copied. So, if you win a copy of card 10 and it has 5 matching numbers, it would then win a copy of the same cards that the original card 10 won: cards 11, 12, 13, 14, and 15. This process repeats until none of the copies cause you to win any more cards. (Cards will never make you copy a card past the end of the table.)\n",
    "\n",
    "This time, the above example goes differently:\n",
    "\n",
    "```\n",
    "Card 1: 41 48 83 86 17 | 83 86  6 31 17  9 48 53\n",
    "Card 2: 13 32 20 16 61 | 61 30 68 82 17 32 24 19\n",
    "Card 3:  1 21 53 59 44 | 69 82 63 72 16 21 14  1\n",
    "Card 4: 41 92 73 84 69 | 59 84 76 51 58  5 54 83\n",
    "Card 5: 87 83 26 28 32 | 88 30 70 12 93 22 82 36\n",
    "Card 6: 31 18 13 56 72 | 74 77 10 23 35 67 36 11\n",
    "```\n",
    "\n",
    "- Card 1 has four matching numbers, so you win one copy each of the next four cards: cards 2, 3, 4, and 5.\n",
    "- Your original card 2 has two matching numbers, so you win one copy each of cards 3 and 4.\n",
    "- Your copy of card 2 also wins one copy each of cards 3 and 4.\n",
    "- Your four instances of card 3 (one original and three copies) have two matching numbers, so you win four copies each of cards 4 and 5.\n",
    "- Your eight instances of card 4 (one original and seven copies) have one matching number, so you win eight copies of card 5.\n",
    "- Your fourteen instances of card 5 (one original and thirteen copies) have no matching numbers and win no more cards.\n",
    "- Your one instance of card 6 (one original) has no matching numbers and wins no more cards.\n"
   ]
  },
  {
   "cell_type": "code",
   "execution_count": 19,
   "metadata": {},
   "outputs": [],
   "source": [
    "# for the number of matches for a given card, add 1 to the instances for the card i + n where n [1, matches]\n",
    "for index in range(len(cards)):\n",
    "    for match_adder in range(len(cards[index].matches)):\n",
    "        match_adder += 1\n",
    "\n",
    "        # ensure we don't go out of bounds\n",
    "        if (index + match_adder) >= len(cards):\n",
    "            continue\n",
    "\n",
    "        # check matches for each instance of that card\n",
    "        for _ in range(cards[index].instances):\n",
    "            cards[index + match_adder].instances += 1"
   ]
  },
  {
   "cell_type": "code",
   "execution_count": 20,
   "metadata": {},
   "outputs": [
    {
     "name": "stdout",
     "output_type": "stream",
     "text": [
      "9721255\n"
     ]
    }
   ],
   "source": [
    "# display the sum of instances of all cards\n",
    "print(sum([card.instances for card in cards]))"
   ]
  }
 ],
 "metadata": {
  "kernelspec": {
   "display_name": "Python 3",
   "language": "python",
   "name": "python3"
  },
  "language_info": {
   "codemirror_mode": {
    "name": "ipython",
    "version": 3
   },
   "file_extension": ".py",
   "mimetype": "text/x-python",
   "name": "python",
   "nbconvert_exporter": "python",
   "pygments_lexer": "ipython3",
   "version": "3.10.11"
  }
 },
 "nbformat": 4,
 "nbformat_minor": 2
}
