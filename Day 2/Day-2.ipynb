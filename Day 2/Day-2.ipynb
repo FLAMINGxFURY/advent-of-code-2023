{
 "cells": [
  {
   "cell_type": "markdown",
   "metadata": {},
   "source": [
    "As you walk, the Elf shows you a small bag and some cubes which are either red, green, or blue. Each time you play this game, he will hide a secret number of cubes of each color in the bag, and your goal is to figure out information about the number of cubes.\n",
    "\n",
    "To get information, once a bag has been loaded with cubes, the Elf will reach into the bag, grab a handful of random cubes, show them to you, and then put them back in the bag. He'll do this a few times per game.\n",
    "\n",
    "You play several games and record the information from each game (your puzzle input). Each game is listed with its ID number (like the 11 in Game 11: ...) followed by a semicolon-separated list of subsets of cubes that were revealed from the bag (like 3 red, 5 green, 4 blue).\n",
    "\n",
    "For example, the record of a few games might look like this:\n",
    "```\n",
    "Game 1: 3 blue, 4 red; 1 red, 2 green, 6 blue; 2 green\n",
    "Game 2: 1 blue, 2 green; 3 green, 4 blue, 1 red; 1 green, 1 blue\n",
    "Game 3: 8 green, 6 blue, 20 red; 5 blue, 4 red, 13 green; 5 green, 1 red\n",
    "Game 4: 1 green, 3 red, 6 blue; 3 green, 6 red; 3 green, 15 blue, 14 red\n",
    "Game 5: 6 red, 1 blue, 3 green; 2 blue, 1 red, 2 green\n",
    "```\n",
    "The Elf would first like to know which games would have been possible if the bag contained only 12 red cubes, 13 green cubes, and 14 blue cubes?\n",
    "\n",
    "In the example above, games 1, 2, and 5 would have been possible if the bag had been loaded with that configuration. However, game 3 would have been impossible because at one point the Elf showed you 20 red cubes at once; similarly, game 4 would also have been impossible because the Elf showed you 15 blue cubes at once. If you add up the IDs of the games that would have been possible, you get 8.\n",
    "\n",
    "Determine which games would have been possible if the bag had been loaded with only 12 red cubes, 13 green cubes, and 14 blue cubes. What is the sum of the IDs of those games?"
   ]
  },
  {
   "cell_type": "code",
   "execution_count": 56,
   "metadata": {},
   "outputs": [],
   "source": [
    "# read in the input file\n",
    "games = []\n",
    "with open(\"input.txt\") as input_file: \n",
    "    for line in input_file.readlines(): \n",
    "        line = line.strip() \n",
    "        if line: games.append(line)"
   ]
  },
  {
   "cell_type": "code",
   "execution_count": 15,
   "metadata": {},
   "outputs": [],
   "source": [
    "games = \"\"\"Game 1: 3 blue, 4 red; 1 red, 2 green, 6 blue; 2 green\n",
    "Game 2: 1 blue, 2 green; 3 green, 4 blue, 1 red; 1 green, 1 blue\n",
    "Game 3: 8 green, 6 blue, 20 red; 5 blue, 4 red, 13 green; 5 green, 1 red\n",
    "Game 4: 1 green, 3 red, 6 blue; 3 green, 6 red; 3 green, 15 blue, 14 red\n",
    "Game 5: 6 red, 1 blue, 3 green; 2 blue, 1 red, 2 green\"\"\".splitlines()"
   ]
  },
  {
   "cell_type": "code",
   "execution_count": 57,
   "metadata": {},
   "outputs": [],
   "source": [
    "# set up the rules of the game\n",
    "RED_COUNT = 12\n",
    "GREEN_COUNT = 13\n",
    "BLUE_COUNT = 14\n",
    "\n",
    "correct_ids: set[int] = set()\n",
    "\n",
    "for game in games:\n",
    "    valid_game = True\n",
    "\n",
    "    # Determine the game's id\n",
    "    game_id: int = int(game[0:game.index(\":\")].split(\" \")[1])\n",
    "    # Split the game into each pull from the bag\n",
    "    pulls = game[game.index(\": \") + 1:].split(\";\")\n",
    "    # for each bag pull, determine if it is a valid pull. If not, the game is invalid\n",
    "    for pull in pulls:\n",
    "        color_pulls = pull.split(\",\")\n",
    "        for color_pull in color_pulls:\n",
    "            # split the pull into the color and the count\n",
    "            count, color = color_pull.lstrip().split(\" \")\n",
    "            count = int(count)\n",
    "\n",
    "            # determine if the pull is valid\n",
    "            if color == \"red\" and count > RED_COUNT:\n",
    "                valid_game = False\n",
    "                break\n",
    "            elif color == \"green\" and count > GREEN_COUNT:\n",
    "                valid_game = False\n",
    "                break\n",
    "            elif color == \"blue\" and count > BLUE_COUNT:\n",
    "                valid_game = False\n",
    "                break\n",
    "\n",
    "    # if the game is valid, add it to the list of correct ids\n",
    "    if valid_game:\n",
    "        correct_ids.add(game_id)"
   ]
  },
  {
   "cell_type": "code",
   "execution_count": 58,
   "metadata": {},
   "outputs": [
    {
     "name": "stdout",
     "output_type": "stream",
     "text": [
      "2204\n"
     ]
    }
   ],
   "source": [
    "# print the sum of the correct ids\n",
    "print(sum(correct_ids))"
   ]
  },
  {
   "cell_type": "markdown",
   "metadata": {},
   "source": [
    "As you continue your walk, the Elf poses a second question: in each game you played, what is the fewest number of cubes of each color that could have been in the bag to make the game possible?\n",
    "\n",
    "Again consider the example games from earlier:\n",
    "\n",
    "```\n",
    "Game 1: 3 blue, 4 red; 1 red, 2 green, 6 blue; 2 green\n",
    "Game 2: 1 blue, 2 green; 3 green, 4 blue, 1 red; 1 green, 1 blue\n",
    "Game 3: 8 green, 6 blue, 20 red; 5 blue, 4 red, 13 green; 5 green, 1 red\n",
    "Game 4: 1 green, 3 red, 6 blue; 3 green, 6 red; 3 green, 15 blue, 14 red\n",
    "Game 5: 6 red, 1 blue, 3 green; 2 blue, 1 red, 2 green\n",
    "```\n",
    "- In game 1, the game could have been played with as few as 4 red, 2 green, and 6 blue cubes. If any color had even one fewer cube, the game would have been impossible.\n",
    "- Game 2 could have been played with a minimum of 1 red, 3 green, and 4 blue cubes.\n",
    "- Game 3 must have been played with at least 20 red, 13 green, and 6 blue cubes.\n",
    "- Game 4 required at least 14 red, 3 green, and 15 blue cubes.\n",
    "- Game 5 needed no fewer than 6 red, 3 green, and 2 blue cubes in the bag."
   ]
  },
  {
   "cell_type": "code",
   "execution_count": 65,
   "metadata": {},
   "outputs": [],
   "source": [
    "power_sets = []\n",
    "\n",
    "for game in games:\n",
    "    # Set up a dictionary to hold the power set\n",
    "    power_set = {}\n",
    "    power_set[\"red\"] = 1\n",
    "    power_set[\"green\"] = 1\n",
    "    power_set[\"blue\"] = 1\n",
    "\n",
    "    # Determine the game's id\n",
    "    game_id: int = int(game[0:game.index(\":\")].split(\" \")[1])\n",
    "    # Split the game into each pull from the bag\n",
    "    pulls = game[game.index(\": \") + 1:].split(\";\")\n",
    "    # for each bag pull, determine if it is a valid pull. If not, the game is invalid\n",
    "    for pull in pulls:\n",
    "        color_pulls = pull.split(\",\")\n",
    "        for color_pull in color_pulls:\n",
    "            # split the pull into the color and the count\n",
    "            count, color = color_pull.lstrip().split(\" \")\n",
    "            count = int(count)\n",
    "\n",
    "            # determine if the pull is larger than the last pull\n",
    "            if color == \"red\" and count > power_set[\"red\"]:\n",
    "                power_set[\"red\"] = count\n",
    "            elif color == \"green\" and count > power_set[\"green\"]:\n",
    "                power_set[\"green\"] = count\n",
    "            elif color == \"blue\" and count > power_set[\"blue\"]:\n",
    "                power_set[\"blue\"] = count\n",
    "\n",
    "    # add the power set to the list of power sets\n",
    "    power_sets.append(power_set[\"red\"] * power_set[\"green\"] * power_set[\"blue\"])"
   ]
  },
  {
   "cell_type": "code",
   "execution_count": 66,
   "metadata": {},
   "outputs": [
    {
     "name": "stdout",
     "output_type": "stream",
     "text": [
      "71036\n"
     ]
    }
   ],
   "source": [
    "# print the sum of the power sets\n",
    "print(sum(power_sets))"
   ]
  }
 ],
 "metadata": {
  "kernelspec": {
   "display_name": "Python 3",
   "language": "python",
   "name": "python3"
  },
  "language_info": {
   "name": "python",
   "version": "3.10.11"
  }
 },
 "nbformat": 4,
 "nbformat_minor": 2
}
