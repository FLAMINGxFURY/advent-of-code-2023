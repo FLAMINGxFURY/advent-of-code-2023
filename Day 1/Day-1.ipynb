{
 "cells": [
  {
   "cell_type": "markdown",
   "metadata": {},
   "source": [
    "The newly-improved calibration document consists of lines of text; each line originally contained a specific calibration value that the Elves now need to recover. On each line, the calibration value can be found by combining the first digit and the last digit (in that order) to form a single two-digit number.\n",
    "\n",
    "For Example:\n",
    "```\n",
    "1abc2\n",
    "pqr3stu8vwx\n",
    "a1b2c3d4e5f\n",
    "treb7uchet\n",
    "```\n",
    "\n",
    "In this example, the calibration values of these four lines are 12, 38, 15, and 77. Adding these together produces 142.\n",
    "\n",
    "Consider your entire calibration document. What is the sum of all of the calibration values?"
   ]
  },
  {
   "cell_type": "code",
   "execution_count": 1,
   "metadata": {},
   "outputs": [],
   "source": [
    "# Read in input.txt as a string\n",
    "with open('input.txt', 'r') as f:\n",
    "    input = f.read()\n",
    "\n",
    "# array of all number characters\n",
    "num_arr = ['0','1','2','3','4','5','6','7','8','9']\n",
    "\n",
    "# Split the string into a list of strings\n",
    "input = input.split('\\n')\n",
    "\n",
    "# Find the calibration value for each line\n",
    "first_chars = []\n",
    "last_chars = []\n",
    "\n",
    "for line in input:\n",
    "    # find the first number character    \n",
    "    for char in line:\n",
    "        if char in num_arr:\n",
    "            first_chars.append(char)\n",
    "            break\n",
    "\n",
    "    # find the last number character    \n",
    "    for char in line[::-1]:\n",
    "        if char in num_arr:\n",
    "            last_chars.append(char)\n",
    "            break  \n",
    "    \n",
    "\n",
    "calibration = [int(f\"{f}{l}\") for f,l in zip(first_chars, last_chars)]"
   ]
  },
  {
   "cell_type": "code",
   "execution_count": 2,
   "metadata": {},
   "outputs": [
    {
     "name": "stdout",
     "output_type": "stream",
     "text": [
      "55017\n"
     ]
    }
   ],
   "source": [
    "# Sum the calibration values\n",
    "print(sum(calibration))"
   ]
  },
  {
   "cell_type": "markdown",
   "metadata": {},
   "source": [
    "Your calculation isn't quite right. It looks like some of the digits are actually spelled out with letters: one, two, three, four, five, six, seven, eight, and nine also count as valid \"digits\".\n",
    "\n",
    "Equipped with this new information, you now need to find the real first and last digit on each line. For example:\n",
    "\n",
    "```\n",
    "two1nine\n",
    "eightwothree\n",
    "abcone2threexyz\n",
    "xtwone3four\n",
    "4nineeightseven2\n",
    "zoneight234\n",
    "7pqrstsixteen\n",
    "```\n",
    "\n",
    "In this example, the calibration values are 29, 83, 13, 24, 42, 14, and 76. Adding these together produces 281.\n",
    "\n",
    "What is the sum of all of the calibration values?"
   ]
  },
  {
   "cell_type": "code",
   "execution_count": 19,
   "metadata": {},
   "outputs": [],
   "source": [
    "word_arr = [\"zero\", \"one\", \"two\", \"three\", \"four\", \"five\", \"six\", \"seven\", \"eight\", \"nine\"]\n",
    "\n",
    "calibration = []\n",
    "\n",
    "def convert_word_to_number_character(word):\n",
    "    \"\"\"\n",
    "    Converts a word to a number character.\n",
    "    \"\"\"\n",
    "    return str(word_arr.index(word))\n",
    "\n",
    "for line in input:\n",
    "    # If the line is empty, skip it\n",
    "    if len(line) == 0:\n",
    "        continue\n",
    "\n",
    "    # Determine if a line has words from word_arr\n",
    "    word_positions = {} # {position: word}\n",
    "    for word in word_arr:\n",
    "        if word in line:\n",
    "            # add each occurence of the word to the dictionary\n",
    "            for i in range(len(line)):\n",
    "                if line[i:i+len(word)] == word:\n",
    "                    word_positions[i] = convert_word_to_number_character(word)\n",
    "    \n",
    "    # Determine if a line has numbers from num_arr\n",
    "    num_positions = {} # {position: number}\n",
    "    for num in num_arr:\n",
    "        if num in line:\n",
    "            # add each occurence of the number to the dictionary\n",
    "            for i in range(len(line)):\n",
    "                if line[i] == num:\n",
    "                    num_positions[i] = num\n",
    "\n",
    "    # If word_positions is empty, only use num_positions\n",
    "    if len(word_positions) == 0:\n",
    "        first_char = num_positions[min(num_positions.keys())]\n",
    "        last_char = num_positions[max(num_positions.keys())]\n",
    "    \n",
    "    # If num_positions is empty, only use word_positions\n",
    "    elif len(num_positions) == 0:\n",
    "        first_char = word_positions[min(word_positions.keys())]\n",
    "        last_char = word_positions[max(word_positions.keys())]\n",
    "\n",
    "    else:\n",
    "        # Between both dictionaries, find the first indexed item.\n",
    "        if min(word_positions.keys()) < min(num_positions.keys()):\n",
    "            first_char = word_positions[min(word_positions.keys())]\n",
    "        else:\n",
    "            first_char = num_positions[min(num_positions.keys())]\n",
    "\n",
    "        # Between both dictionaries, find the last indexed item.\n",
    "        if max(word_positions.keys()) > max(num_positions.keys()):\n",
    "            last_char = word_positions[max(word_positions.keys())]\n",
    "        else:\n",
    "            last_char = num_positions[max(num_positions.keys())]\n",
    "\n",
    "    calibration.append(int(f\"{first_char}{last_char}\"))\n",
    "    "
   ]
  },
  {
   "cell_type": "code",
   "execution_count": 20,
   "metadata": {},
   "outputs": [
    {
     "name": "stdout",
     "output_type": "stream",
     "text": [
      "53539\n"
     ]
    }
   ],
   "source": [
    "# Sum the calibration values\n",
    "print(sum(calibration))"
   ]
  }
 ],
 "metadata": {
  "kernelspec": {
   "display_name": "Python 3",
   "language": "python",
   "name": "python3"
  },
  "language_info": {
   "codemirror_mode": {
    "name": "ipython",
    "version": 3
   },
   "file_extension": ".py",
   "mimetype": "text/x-python",
   "name": "python",
   "nbconvert_exporter": "python",
   "pygments_lexer": "ipython3",
   "version": "3.10.11"
  }
 },
 "nbformat": 4,
 "nbformat_minor": 2
}
